{
 "cells": [
  {
   "cell_type": "code",
   "execution_count": 67,
   "metadata": {},
   "outputs": [
    {
     "name": "stdout",
     "output_type": "stream",
     "text": [
      "How to Not Cry at a Funeral | wikiHow\n"
     ]
    }
   ],
   "source": [
    "import requests\n",
    "from bs4 import BeautifulSoup\n",
    "import re\n",
    "import csv\n",
    "import os\n",
    "url='https://www.wikihow.com/Special:Randomizer'\n",
    "response=requests.get(url)\n",
    "content=response.content\n",
    "soup=BeautifulSoup(content,'html.parser')\n",
    "title=soup.find('title').text.strip()\n",
    "print(title)\n",
    "subheadings=[]\n",
    "para=[]\n",
    "steps=soup.find_all('span')\n",
    "for step in steps:\n",
    "    sub_element=step.find('b')\n",
    "    if(sub_element is not None ):\n",
    "        sub_text=sub_element.text.strip().replace('\\n',' ')\n",
    "        sub_element.get_text()\n",
    "        sub_element.encode('UTF-8',errors='ignore')\n",
    "        sub_final=re.sub(r\" \",' ',sub_text)\n",
    "        subheadings.append(sub_final)\n",
    "#print(subheadings)   \n",
    "if os.path.isfile('dan.csv'):\n",
    " with open(\"dan.csv\",'w',encoding=\"UTF-8\",errors='ignore') as f:\n",
    "    writer=f.writer() \n",
    "    for i in subheadings:\n",
    "        writer.writerow(i) \n",
    "    reader=f.reader()\n",
    "    print(reader)   "
   ]
  }
 ],
 "metadata": {
  "kernelspec": {
   "display_name": "Python 3",
   "language": "python",
   "name": "python3"
  },
  "language_info": {
   "codemirror_mode": {
    "name": "ipython",
    "version": 3
   },
   "file_extension": ".py",
   "mimetype": "text/x-python",
   "name": "python",
   "nbconvert_exporter": "python",
   "pygments_lexer": "ipython3",
   "version": "3.11.9"
  }
 },
 "nbformat": 4,
 "nbformat_minor": 2
}
